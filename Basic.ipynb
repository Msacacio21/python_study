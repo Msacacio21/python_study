{
  "nbformat": 4,
  "nbformat_minor": 0,
  "metadata": {
    "colab": {
      "name": "Basic.ipynb",
      "provenance": [],
      "collapsed_sections": [],
      "authorship_tag": "ABX9TyNszwrqrH4yKsHstE/UBEB3",
      "include_colab_link": true
    },
    "kernelspec": {
      "name": "python3",
      "display_name": "Python 3"
    }
  },
  "cells": [
    {
      "cell_type": "markdown",
      "metadata": {
        "id": "view-in-github",
        "colab_type": "text"
      },
      "source": [
        "<a href=\"https://colab.research.google.com/github/Msacacio21/python_study/blob/master/Basic.ipynb\" target=\"_parent\"><img src=\"https://colab.research.google.com/assets/colab-badge.svg\" alt=\"Open In Colab\"/></a>"
      ]
    },
    {
      "cell_type": "markdown",
      "metadata": {
        "id": "D5fjVt96Beaj",
        "colab_type": "text"
      },
      "source": [
        "\n",
        "# Basic concepts and commands\n",
        "\n"
      ]
    },
    {
      "cell_type": "code",
      "metadata": {
        "id": "pZy-qs8jBvVi",
        "colab_type": "code",
        "outputId": "ad05086b-c5e7-4c25-ad35-3f9722f1878e",
        "colab": {
          "base_uri": "https://localhost:8080/",
          "height": 52
        }
      },
      "source": [
        "#Comentário de uma linha\n",
        "print(\"Olá Mundo\")\n",
        "\n",
        "'''Comentário com mais de uma linha\n",
        "linha2 '''\n",
        "print('Olá Mundo')"
      ],
      "execution_count": 1,
      "outputs": [
        {
          "output_type": "stream",
          "text": [
            "Olá Mundo\n",
            "Olá Mundo\n"
          ],
          "name": "stdout"
        }
      ]
    },
    {
      "cell_type": "code",
      "metadata": {
        "id": "B_rSsLz1CNLh",
        "colab_type": "code",
        "outputId": "128631df-1d08-4600-f524-ca73d610ba34",
        "colab": {
          "base_uri": "https://localhost:8080/",
          "height": 121
        }
      },
      "source": [
        "#Operações matemáticas\n",
        "print(2 + 2) #soma\n",
        "print(2 - 2) #subtração\n",
        "print(2 * 2) #multiplicação\n",
        "print(2 ** 3) #exponenciação\n",
        "print(10 % 3) #módulo(resto da divisão)\n",
        "print(10 / 2) #divisão"
      ],
      "execution_count": 2,
      "outputs": [
        {
          "output_type": "stream",
          "text": [
            "4\n",
            "0\n",
            "4\n",
            "8\n",
            "1\n",
            "5.0\n"
          ],
          "name": "stdout"
        }
      ]
    },
    {
      "cell_type": "code",
      "metadata": {
        "id": "MfhT97_6DOaG",
        "colab_type": "code",
        "outputId": "a3b00bd1-e57b-4ea7-d6f6-512e9bf9bdc8",
        "colab": {
          "base_uri": "https://localhost:8080/",
          "height": 86
        }
      },
      "source": [
        "#declaração e tipos de variáveis\n",
        "v_str = 'valor'\n",
        "v_int = 4\n",
        "v_float = 1.2\n",
        "v_bolean = True\n",
        "\n",
        "print('variavel texto: ',v_str, '\\nvariavel de numero inteiro: ', v_int, '\\nvariavel de numero:',v_float,'\\nvariavel boleana: ',v_bolean)"
      ],
      "execution_count": 3,
      "outputs": [
        {
          "output_type": "stream",
          "text": [
            "variavel texto:  valor \n",
            "variavel de numero inteiro:  4 \n",
            "variavel de numero: 1.2 \n",
            "variavel boleana:  True\n"
          ],
          "name": "stdout"
        }
      ]
    },
    {
      "cell_type": "code",
      "metadata": {
        "id": "EmMFmRDcgOrO",
        "colab_type": "code",
        "colab": {
          "base_uri": "https://localhost:8080/",
          "height": 121
        },
        "outputId": "35e75990-88e7-4bdf-9c56-fe3756261651"
      },
      "source": [
        "#Operadores relacionais\n",
        "x = 2\n",
        "y = 3\n",
        "\n",
        "print(x == y) \n",
        "print(x != y)\n",
        "print(x < y)\n",
        "print(x > y)\n",
        "print(x <= y)\n",
        "print(x >= y)\n"
      ],
      "execution_count": 4,
      "outputs": [
        {
          "output_type": "stream",
          "text": [
            "False\n",
            "True\n",
            "True\n",
            "False\n",
            "True\n",
            "False\n"
          ],
          "name": "stdout"
        }
      ]
    },
    {
      "cell_type": "code",
      "metadata": {
        "id": "dUmRUYWwhPds",
        "colab_type": "code",
        "colab": {
          "base_uri": "https://localhost:8080/",
          "height": 69
        },
        "outputId": "8bd43382-0d61-4b95-cda7-ba0f1c131d3b"
      },
      "source": [
        "#Operadores lógicos\n",
        "z = 3\n",
        "print(x == y and y == z) \n",
        "print(x == y or y == z) \n",
        "print(not(x == y and y == z)) #negação\n"
      ],
      "execution_count": 5,
      "outputs": [
        {
          "output_type": "stream",
          "text": [
            "False\n",
            "True\n",
            "True\n"
          ],
          "name": "stdout"
        }
      ]
    },
    {
      "cell_type": "code",
      "metadata": {
        "id": "5GRhxh5diMUG",
        "colab_type": "code",
        "colab": {
          "base_uri": "https://localhost:8080/",
          "height": 52
        },
        "outputId": "592b7a7c-d4d2-4a61-d914-059f5c488bc6"
      },
      "source": [
        "#Estrutura condicional\n",
        "if x > y:\n",
        "  print('x maior que y')\n",
        "else:\n",
        "  print('x menor que y')\n",
        "\n",
        "if x > y:\n",
        "  print('x maior que y')\n",
        "elif y == z:\n",
        "  print('y é igual a z')\n",
        "else:\n",
        "  print('nenhuma condição atendida')\n",
        "\n"
      ],
      "execution_count": 6,
      "outputs": [
        {
          "output_type": "stream",
          "text": [
            "x menor que y\n",
            "y é igual a z\n"
          ],
          "name": "stdout"
        }
      ]
    },
    {
      "cell_type": "code",
      "metadata": {
        "id": "lARth1TJmZJK",
        "colab_type": "code",
        "colab": {
          "base_uri": "https://localhost:8080/",
          "height": 69
        },
        "outputId": "84ddf2e6-3653-42f4-8413-bb91782f1901"
      },
      "source": [
        "#Estrutura de repetição\n",
        "while x < 5:\n",
        "  print(x)\n",
        "  x += 1\n"
      ],
      "execution_count": 7,
      "outputs": [
        {
          "output_type": "stream",
          "text": [
            "2\n",
            "3\n",
            "4\n"
          ],
          "name": "stdout"
        }
      ]
    },
    {
      "cell_type": "code",
      "metadata": {
        "id": "uoa9YS_xnX0f",
        "colab_type": "code",
        "colab": {
          "base_uri": "https://localhost:8080/",
          "height": 69
        },
        "outputId": "fc28097d-5297-4111-a746-20b8bb1d1862"
      },
      "source": [
        "lista = ['Olá','Mundo','!!!']\n",
        "for i in lista:\n",
        "  print(i)"
      ],
      "execution_count": 8,
      "outputs": [
        {
          "output_type": "stream",
          "text": [
            "Olá\n",
            "Mundo\n",
            "!!!\n"
          ],
          "name": "stdout"
        }
      ]
    },
    {
      "cell_type": "code",
      "metadata": {
        "id": "yLj0zi-wn10U",
        "colab_type": "code",
        "colab": {
          "base_uri": "https://localhost:8080/",
          "height": 104
        },
        "outputId": "0e24bd7c-3744-447f-90a4-debee329b547"
      },
      "source": [
        "for i in range(1,10,2):\n",
        "  print(i)"
      ],
      "execution_count": 9,
      "outputs": [
        {
          "output_type": "stream",
          "text": [
            "1\n",
            "3\n",
            "5\n",
            "7\n",
            "9\n"
          ],
          "name": "stdout"
        }
      ]
    },
    {
      "cell_type": "code",
      "metadata": {
        "id": "Fgb1DFDqoNNB",
        "colab_type": "code",
        "colab": {
          "base_uri": "https://localhost:8080/",
          "height": 190
        },
        "outputId": "469cebe7-1e75-426c-a7b0-3261bb08e2d7"
      },
      "source": [
        "#Trabalhando com string\n",
        "a = 'Monique'\n",
        "b = 'Ellen'\n",
        "c = '\\nTeste ..,,,,'\n",
        "\n",
        "#concatenar\n",
        "concat = a +' '+ b\n",
        "print(concat)\n",
        "\n",
        "#tamanho\n",
        "print(len(concat))\n",
        "\n",
        "#navegação\n",
        "print(concat[2])\n",
        "print(concat[0:7])\n",
        "\n",
        "#MÉTODOS PARA STRING\n",
        "\n",
        "#caixa baixa\n",
        "print(concat.lower())\n",
        "\n",
        "#caixa alta\n",
        "print(concat.upper())\n",
        "\n",
        "#remoção de espaços ou caracteres indesejados\n",
        "print(c.strip())\n",
        "print(c.strip(\",\"))\n",
        "\n",
        "#transforma uma string em lista\n",
        "list_concat = concat.split()\n",
        "list_concat\n",
        "\n",
        "#Busca por substring\n",
        "concat.find(\"Ellen\") #retorna a posição de inicio da string\n",
        "\n"
      ],
      "execution_count": 11,
      "outputs": [
        {
          "output_type": "stream",
          "text": [
            "Monique Ellen\n",
            "13\n",
            "n\n",
            "Monique\n",
            "monique ellen\n",
            "MONIQUE ELLEN\n",
            "Teste ..,,,,\n",
            "\n",
            "Teste ..\n"
          ],
          "name": "stdout"
        },
        {
          "output_type": "execute_result",
          "data": {
            "text/plain": [
              "8"
            ]
          },
          "metadata": {
            "tags": []
          },
          "execution_count": 11
        }
      ]
    },
    {
      "cell_type": "code",
      "metadata": {
        "id": "-B-cg2xWrkVh",
        "colab_type": "code",
        "colab": {}
      },
      "source": [
        ""
      ],
      "execution_count": 0,
      "outputs": []
    }
  ]
}