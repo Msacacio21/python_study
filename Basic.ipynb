{
  "nbformat": 4,
  "nbformat_minor": 0,
  "metadata": {
    "colab": {
      "name": "Basic.ipynb",
      "provenance": [],
      "collapsed_sections": [],
      "authorship_tag": "ABX9TyP3eezNoVlovKOEhv8ru5Ao",
      "include_colab_link": true
    },
    "kernelspec": {
      "name": "python3",
      "display_name": "Python 3"
    }
  },
  "cells": [
    {
      "cell_type": "markdown",
      "metadata": {
        "id": "view-in-github",
        "colab_type": "text"
      },
      "source": [
        "<a href=\"https://colab.research.google.com/github/Msacacio21/python_study/blob/master/Basic.ipynb\" target=\"_parent\"><img src=\"https://colab.research.google.com/assets/colab-badge.svg\" alt=\"Open In Colab\"/></a>"
      ]
    },
    {
      "cell_type": "markdown",
      "metadata": {
        "id": "D5fjVt96Beaj",
        "colab_type": "text"
      },
      "source": [
        "\n",
        "# Basic concepts and commands\n",
        "\n"
      ]
    },
    {
      "cell_type": "code",
      "metadata": {
        "id": "pZy-qs8jBvVi",
        "colab_type": "code",
        "outputId": "bb7e47bb-b780-4db6-c33c-b27e8910b53e",
        "colab": {
          "base_uri": "https://localhost:8080/",
          "height": 52
        }
      },
      "source": [
        "#Comentário de uma linha\n",
        "print(\"Olá Mundo\")\n",
        "\n",
        "'''Comentário com mais de uma linha\n",
        "linha2 '''\n",
        "print('Olá Mundo')"
      ],
      "execution_count": 0,
      "outputs": [
        {
          "output_type": "stream",
          "text": [
            "Olá Mundo\n",
            "Olá Mundo\n"
          ],
          "name": "stdout"
        }
      ]
    },
    {
      "cell_type": "code",
      "metadata": {
        "id": "B_rSsLz1CNLh",
        "colab_type": "code",
        "outputId": "b8daa320-15ee-4b85-cdd0-b7e228786fa4",
        "colab": {
          "base_uri": "https://localhost:8080/",
          "height": 121
        }
      },
      "source": [
        "#Operações matemáticas\n",
        "print(2 + 2) #soma\n",
        "print(2 - 2) #subtração\n",
        "print(2 * 2) #multiplicação\n",
        "print(2 ** 3) #exponenciação\n",
        "print(10 % 3) #módulo(resto da divisão)\n",
        "print(10 / 2) #divisão"
      ],
      "execution_count": 0,
      "outputs": [
        {
          "output_type": "stream",
          "text": [
            "4\n",
            "0\n",
            "4\n",
            "8\n",
            "1\n",
            "5.0\n"
          ],
          "name": "stdout"
        }
      ]
    },
    {
      "cell_type": "code",
      "metadata": {
        "id": "MfhT97_6DOaG",
        "colab_type": "code",
        "outputId": "d0b4a347-f08a-4e53-e045-825201610303",
        "colab": {
          "base_uri": "https://localhost:8080/",
          "height": 86
        }
      },
      "source": [
        "#declaração e tipos de variáveis\n",
        "v_str = 'valor'\n",
        "v_int = 4\n",
        "v_float = 1.2\n",
        "v_bolean = True\n",
        "\n",
        "print('variavel texto: ',v_str, '\\nvariavel de numero inteiro: ', v_int, '\\nvariavel de numero:',v_float,'\\nvariavel boleana: ',v_bolean)"
      ],
      "execution_count": 0,
      "outputs": [
        {
          "output_type": "stream",
          "text": [
            "variavel texto:  valor \n",
            "variavel de numero inteiro:  4 \n",
            "variavel de numero: 1.2 \n",
            "variavel boleana:  True\n"
          ],
          "name": "stdout"
        }
      ]
    },
    {
      "cell_type": "code",
      "metadata": {
        "id": "EmMFmRDcgOrO",
        "colab_type": "code",
        "outputId": "99de7a56-bc6e-4127-ac47-fc10f1234532",
        "colab": {
          "base_uri": "https://localhost:8080/",
          "height": 121
        }
      },
      "source": [
        "#Operadores relacionais\n",
        "x = 2\n",
        "y = 3\n",
        "\n",
        "print(x == y) \n",
        "print(x != y)\n",
        "print(x < y)\n",
        "print(x > y)\n",
        "print(x <= y)\n",
        "print(x >= y)\n"
      ],
      "execution_count": 0,
      "outputs": [
        {
          "output_type": "stream",
          "text": [
            "False\n",
            "True\n",
            "True\n",
            "False\n",
            "True\n",
            "False\n"
          ],
          "name": "stdout"
        }
      ]
    },
    {
      "cell_type": "code",
      "metadata": {
        "id": "dUmRUYWwhPds",
        "colab_type": "code",
        "outputId": "05cc55a8-a932-405a-9205-5cc4dc61e4d8",
        "colab": {
          "base_uri": "https://localhost:8080/",
          "height": 69
        }
      },
      "source": [
        "#Operadores lógicos\n",
        "z = 3\n",
        "print(x == y and y == z) \n",
        "print(x == y or y == z) \n",
        "print(not(x == y and y == z)) #negação\n"
      ],
      "execution_count": 0,
      "outputs": [
        {
          "output_type": "stream",
          "text": [
            "False\n",
            "True\n",
            "True\n"
          ],
          "name": "stdout"
        }
      ]
    },
    {
      "cell_type": "code",
      "metadata": {
        "id": "5GRhxh5diMUG",
        "colab_type": "code",
        "outputId": "cc7c78df-60fe-4c42-f825-41cff44f965a",
        "colab": {
          "base_uri": "https://localhost:8080/",
          "height": 52
        }
      },
      "source": [
        "#Estrutura condicional\n",
        "if x > y:\n",
        "  print('x maior que y')\n",
        "else:\n",
        "  print('x menor que y')\n",
        "\n",
        "if x > y:\n",
        "  print('x maior que y')\n",
        "elif y == z:\n",
        "  print('y é igual a z')\n",
        "else:\n",
        "  print('nenhuma condição atendida')\n",
        "\n"
      ],
      "execution_count": 0,
      "outputs": [
        {
          "output_type": "stream",
          "text": [
            "x menor que y\n",
            "y é igual a z\n"
          ],
          "name": "stdout"
        }
      ]
    },
    {
      "cell_type": "code",
      "metadata": {
        "id": "lARth1TJmZJK",
        "colab_type": "code",
        "outputId": "7189ef8c-9786-4364-ec83-8c084bc963cd",
        "colab": {
          "base_uri": "https://localhost:8080/",
          "height": 69
        }
      },
      "source": [
        "#Estrutura de repetição\n",
        "while x < 5:\n",
        "  print(x)\n",
        "  x += 1\n"
      ],
      "execution_count": 0,
      "outputs": [
        {
          "output_type": "stream",
          "text": [
            "2\n",
            "3\n",
            "4\n"
          ],
          "name": "stdout"
        }
      ]
    },
    {
      "cell_type": "code",
      "metadata": {
        "id": "uoa9YS_xnX0f",
        "colab_type": "code",
        "outputId": "224dcbaf-a134-4b32-8365-146caa0cccad",
        "colab": {
          "base_uri": "https://localhost:8080/",
          "height": 69
        }
      },
      "source": [
        "lista = ['Olá','Mundo','!!!']\n",
        "for i in lista:\n",
        "  print(i)"
      ],
      "execution_count": 0,
      "outputs": [
        {
          "output_type": "stream",
          "text": [
            "Olá\n",
            "Mundo\n",
            "!!!\n"
          ],
          "name": "stdout"
        }
      ]
    },
    {
      "cell_type": "code",
      "metadata": {
        "id": "yLj0zi-wn10U",
        "colab_type": "code",
        "outputId": "030527a2-6cea-48d6-b7dc-aac78c791052",
        "colab": {
          "base_uri": "https://localhost:8080/",
          "height": 104
        }
      },
      "source": [
        "for i in range(1,10,2):\n",
        "  print(i)"
      ],
      "execution_count": 0,
      "outputs": [
        {
          "output_type": "stream",
          "text": [
            "1\n",
            "3\n",
            "5\n",
            "7\n",
            "9\n"
          ],
          "name": "stdout"
        }
      ]
    },
    {
      "cell_type": "markdown",
      "metadata": {
        "id": "1aBxBqQ2kdhB",
        "colab_type": "text"
      },
      "source": [
        "**Trabalhando com string**"
      ]
    },
    {
      "cell_type": "code",
      "metadata": {
        "id": "Fgb1DFDqoNNB",
        "colab_type": "code",
        "outputId": "8e7b155f-5be6-4673-c2e0-0636543005d6",
        "colab": {
          "base_uri": "https://localhost:8080/",
          "height": 86
        }
      },
      "source": [
        "#Trabalhando com string\n",
        "a = 'Monique'\n",
        "b = 'Ellen'\n",
        "c = '\\nTeste ..,,,,'\n",
        "\n",
        "#concatenar\n",
        "concat = a +' '+ b\n",
        "print(concat)\n",
        "\n",
        "#tamanho\n",
        "print(len(concat))\n",
        "\n",
        "#navegação\n",
        "print(concat[2])\n",
        "print(concat[0:7])"
      ],
      "execution_count": 0,
      "outputs": [
        {
          "output_type": "stream",
          "text": [
            "Monique Ellen\n",
            "13\n",
            "n\n",
            "Monique\n"
          ],
          "name": "stdout"
        }
      ]
    },
    {
      "cell_type": "code",
      "metadata": {
        "id": "-B-cg2xWrkVh",
        "colab_type": "code",
        "outputId": "cbeb019a-8df3-48c7-c1ad-245729da1be0",
        "colab": {
          "base_uri": "https://localhost:8080/",
          "height": 155
        }
      },
      "source": [
        "#MÉTODOS PARA STRING\n",
        "\n",
        "#caixa baixa\n",
        "print(concat.lower())\n",
        "\n",
        "#caixa alta\n",
        "print(concat.upper())\n",
        "\n",
        "#remoção de espaços ou caracteres indesejados\n",
        "print(c.strip()) #remove apenas os espaços\n",
        "print(c.strip(\",.\"))\n",
        "\n",
        "#transforma uma string em lista\n",
        "list_concat = concat.split()\n",
        "print(list_concat)\n",
        "\n",
        "#Busca por substring\n",
        "print(concat.find(\"Ellen\")) #retorna a posição de inicio da substring\n",
        "\n",
        "#Substituir parte de uma string\n",
        "print(concat.replace(\"Ellen\", \"Acacio\"))"
      ],
      "execution_count": 0,
      "outputs": [
        {
          "output_type": "stream",
          "text": [
            "monique ellen\n",
            "MONIQUE ELLEN\n",
            "Teste ..,,,,\n",
            "\n",
            "Teste \n",
            "['Monique', 'Ellen']\n",
            "8\n",
            "Monique Acacio\n"
          ],
          "name": "stdout"
        }
      ]
    },
    {
      "cell_type": "markdown",
      "metadata": {
        "id": "0gnV-9kpr5-P",
        "colab_type": "text"
      },
      "source": [
        "**Funções**"
      ]
    },
    {
      "cell_type": "code",
      "metadata": {
        "id": "mAuULwQFr8a5",
        "colab_type": "code",
        "outputId": "3d367bbb-89ac-4964-e80c-6f4b95d7bb4c",
        "colab": {
          "base_uri": "https://localhost:8080/",
          "height": 35
        }
      },
      "source": [
        "#função =  bloco de código\n",
        "def soma (x,y):\n",
        "  return x + y\n",
        "\n",
        "#chamada da função\n",
        "soma(2,3)"
      ],
      "execution_count": 0,
      "outputs": [
        {
          "output_type": "execute_result",
          "data": {
            "text/plain": [
              "5"
            ]
          },
          "metadata": {
            "tags": []
          },
          "execution_count": 12
        }
      ]
    },
    {
      "cell_type": "markdown",
      "metadata": {
        "id": "9hczxqg6yBZ-",
        "colab_type": "text"
      },
      "source": [
        "**Manipulação de arquivo**"
      ]
    },
    {
      "cell_type": "code",
      "metadata": {
        "id": "DSIEDp9dsa-4",
        "colab_type": "code",
        "outputId": "8b8df7e9-5435-4dab-e79f-fa60da029a5b",
        "colab": {
          "base_uri": "https://localhost:8080/",
          "height": 35
        }
      },
      "source": [
        "#função open - importação ou criação de um arquivo\n",
        "'''\n",
        "variavel = open(nome, modo)\n",
        "\n",
        "onde, modo:\n",
        "r = read (modo default)\n",
        "w = write (caso o arquivo já exista o mesmo será apagado e um novo arquivo será criado)\n",
        "a = read and write (cria o arquivo ou adiciona o conteúdo no fim do arquivo existente)\n",
        "\n",
        "Upload um arquivo com o conteúdo abaixo:\n",
        "Meu arquivo do texto\n",
        "Olá Mundo\n",
        "Esta é um arquivo de teste\n",
        "'''\n",
        "arquivo = open('/Meu arquivo do texto')\n",
        "print(arquivo)\n",
        "\n"
      ],
      "execution_count": 0,
      "outputs": [
        {
          "output_type": "stream",
          "text": [
            "<_io.TextIOWrapper name='/Meu arquivo do texto' mode='r' encoding='UTF-8'>\n"
          ],
          "name": "stdout"
        }
      ]
    },
    {
      "cell_type": "code",
      "metadata": {
        "id": "G8fhgcVuztYQ",
        "colab_type": "code",
        "outputId": "e5fba5ce-d5a7-4afa-ccd6-74eb559d9b5b",
        "colab": {
          "base_uri": "https://localhost:8080/",
          "height": 104
        }
      },
      "source": [
        "#adicionando o conteúdo do arquivo em  uma lista e exibindo \n",
        "linhas = arquivo.readlines()\n",
        "for linha in linhas:\n",
        "  print(linha)\n",
        "\n",
        "arquivo.close() #fechando o arquivo"
      ],
      "execution_count": 0,
      "outputs": [
        {
          "output_type": "stream",
          "text": [
            "Meu arquivo do texto\n",
            "\n",
            "Olá Mundo\n",
            "\n",
            "Esta é um arquivo de teste\n"
          ],
          "name": "stdout"
        }
      ]
    },
    {
      "cell_type": "code",
      "metadata": {
        "id": "kR3I-WJ60JkX",
        "colab_type": "code",
        "outputId": "84f9603b-1a00-40d1-a051-5162ec7d0439",
        "colab": {
          "base_uri": "https://localhost:8080/",
          "height": 35
        }
      },
      "source": [
        "#criando um novo arquivo\n",
        "texto = open('/texto.txt', 'w')\n",
        "print(texto)"
      ],
      "execution_count": 0,
      "outputs": [
        {
          "output_type": "stream",
          "text": [
            "<_io.TextIOWrapper name='/texto.txt' mode='w' encoding='UTF-8'>\n"
          ],
          "name": "stdout"
        }
      ]
    },
    {
      "cell_type": "code",
      "metadata": {
        "id": "oTcWohC80xeA",
        "colab_type": "code",
        "colab": {}
      },
      "source": [
        "#adicionar conteúdo a um arquivo\n",
        "texto.write('Adicionando conteúdo a um arquivo')\n",
        "texto.close()"
      ],
      "execution_count": 0,
      "outputs": []
    },
    {
      "cell_type": "markdown",
      "metadata": {
        "id": "7sUaCFfMWolX",
        "colab_type": "text"
      },
      "source": [
        "**Estrutura de dados**"
      ]
    },
    {
      "cell_type": "code",
      "metadata": {
        "id": "WodI9mSW2UKx",
        "colab_type": "code",
        "outputId": "7dec9bf4-5dec-4178-d7c8-b6dee0a07d9e",
        "colab": {
          "base_uri": "https://localhost:8080/",
          "height": 118
        }
      },
      "source": [
        "#Listas\n",
        "\n",
        "frutas = ['abacaxi','melancia','abacate']\n",
        "print(frutas) #exibe a lista inteira\n",
        "\n",
        "numeros = [1,2,3,4,5]\n",
        "print(numeros[0]) #exibe o valor conforme indice informado\n",
        "\n",
        "lista_mista = ['abacaxi',2,9.89,True]\n",
        "for i in lista_mista:  #imprimi todos os itens da lista utilizando o a estrutura de repetição for\n",
        "  print(i)"
      ],
      "execution_count": 0,
      "outputs": [
        {
          "output_type": "stream",
          "text": [
            "['abacaxi', 'melancia', 'abacate']\n",
            "1\n",
            "abacaxio\n",
            "2\n",
            "9.89\n",
            "True\n"
          ],
          "name": "stdout"
        }
      ]
    },
    {
      "cell_type": "code",
      "metadata": {
        "id": "NFGSQofIXBYn",
        "colab_type": "code",
        "outputId": "e0f9c27d-c206-4d7f-eb88-d8621dc16fe6",
        "colab": {
          "base_uri": "https://localhost:8080/",
          "height": 50
        }
      },
      "source": [
        "#verificar o tamanho de uma lista\n",
        "print(len(lista_mista))\n",
        "\n",
        "#adiciona novo item no final da lista\n",
        "lista_mista.append('limão')"
      ],
      "execution_count": 0,
      "outputs": [
        {
          "output_type": "stream",
          "text": [
            "5\n",
            "['abacaxio', 2, 9.89, True, 'limão']\n"
          ],
          "name": "stdout"
        }
      ]
    },
    {
      "cell_type": "code",
      "metadata": {
        "id": "R4myffPpYPdP",
        "colab_type": "code",
        "outputId": "ea27e8e3-0a68-4efd-e0a2-2d4b0313bbc2",
        "colab": {
          "base_uri": "https://localhost:8080/",
          "height": 50
        }
      },
      "source": [
        "#verificar a existencia de um valor na lista\n",
        "if 'limão' in lista_mista:\n",
        "  print('limão esta na lista')\n",
        "\n",
        "#remover itens da lista\n",
        "del lista_mista[3:]\n",
        "print(lista_mista)\n",
        "\n",
        "del frutas[:] #remove todos os itens da lista\n",
        "print(frutas) "
      ],
      "execution_count": 0,
      "outputs": [
        {
          "output_type": "stream",
          "text": [
            "['abacaxio', 2, 9.89]\n",
            "[]\n"
          ],
          "name": "stdout"
        }
      ]
    },
    {
      "cell_type": "code",
      "metadata": {
        "id": "Nf1xQ2V8YuWz",
        "colab_type": "code",
        "colab": {
          "base_uri": "https://localhost:8080/",
          "height": 67
        },
        "outputId": "ec6e0485-460b-42c3-8916-b4b0fceb104f"
      },
      "source": [
        "#ordenar lista\n",
        "l = [142,5,6,841,23,1]\n",
        "print(sorted(l)) #retorna a lista ordenada\n",
        "print(l)\n",
        "\n",
        "l.sort() #altera a lista colocando os itens de forma ordenada\n",
        "print(l)"
      ],
      "execution_count": 13,
      "outputs": [
        {
          "output_type": "stream",
          "text": [
            "[1, 5, 6, 23, 142, 841]\n",
            "[142, 5, 6, 841, 23, 1]\n",
            "[1, 5, 6, 23, 142, 841]\n"
          ],
          "name": "stdout"
        }
      ]
    },
    {
      "cell_type": "code",
      "metadata": {
        "id": "V2IXjFoudWFO",
        "colab_type": "code",
        "colab": {
          "base_uri": "https://localhost:8080/",
          "height": 34
        },
        "outputId": "1f08a4a9-68ab-462b-f494-95fd568bdf58"
      },
      "source": [
        "#ordenar lista de forma reversa\n",
        "l.sort(reverse=True)\n",
        "print(l)"
      ],
      "execution_count": 15,
      "outputs": [
        {
          "output_type": "stream",
          "text": [
            "[841, 142, 23, 6, 5, 1]\n"
          ],
          "name": "stdout"
        }
      ]
    },
    {
      "cell_type": "code",
      "metadata": {
        "id": "aPDbe8TZddS1",
        "colab_type": "code",
        "colab": {
          "base_uri": "https://localhost:8080/",
          "height": 50
        },
        "outputId": "cd84c410-e117-489e-ed22-12ee118e39d7"
      },
      "source": [
        "#DICIONÁRIO DE DADOS - chave e valor\n",
        "pessoas = {'nome':'Monique','idade':29,'sexo':'Feminino','altura':1.61}\n",
        "\n",
        "print(pessoas['nome']) #busca pela chave\n",
        "print(pessoas)"
      ],
      "execution_count": 19,
      "outputs": [
        {
          "output_type": "stream",
          "text": [
            "Monique\n",
            "{'nome': 'Monique', 'idade': 29, 'sexo': 'Feminino', 'altura': 1.61}\n"
          ],
          "name": "stdout"
        }
      ]
    },
    {
      "cell_type": "code",
      "metadata": {
        "id": "ZmXKnM9AtTn2",
        "colab_type": "code",
        "colab": {
          "base_uri": "https://localhost:8080/",
          "height": 84
        },
        "outputId": "3ce9b629-e46e-4e07-a82d-48d18b4a73e5"
      },
      "source": [
        "#navegar pelo dicionário\n",
        "for pessoa in pessoas:\n",
        "  print(pessoa,':', pessoas[pessoa])"
      ],
      "execution_count": 23,
      "outputs": [
        {
          "output_type": "stream",
          "text": [
            "nome : Monique\n",
            "idade : 29\n",
            "sexo : Feminino\n",
            "altura : 1.61\n"
          ],
          "name": "stdout"
        }
      ]
    },
    {
      "cell_type": "code",
      "metadata": {
        "id": "iSbI_Gtct-7X",
        "colab_type": "code",
        "colab": {
          "base_uri": "https://localhost:8080/",
          "height": 84
        },
        "outputId": "72591559-f654-4803-d655-e9518019b8b0"
      },
      "source": [
        "#a função item transforma os dados do dicionário em um tupla\n",
        "for pessoa in pessoas.items():\n",
        "  print(pessoa)"
      ],
      "execution_count": 24,
      "outputs": [
        {
          "output_type": "stream",
          "text": [
            "('nome', 'Monique')\n",
            "('idade', 29)\n",
            "('sexo', 'Feminino')\n",
            "('altura', 1.61)\n"
          ],
          "name": "stdout"
        }
      ]
    },
    {
      "cell_type": "code",
      "metadata": {
        "id": "-uBzlC11uJ8J",
        "colab_type": "code",
        "colab": {
          "base_uri": "https://localhost:8080/",
          "height": 84
        },
        "outputId": "9cbb200b-b954-41e5-e523-2f77039616fd"
      },
      "source": [
        "#retorna apenas os valores do dicionário\n",
        "for pessoa in pessoas.values():\n",
        "  print(pessoa)"
      ],
      "execution_count": 26,
      "outputs": [
        {
          "output_type": "stream",
          "text": [
            "Monique\n",
            "29\n",
            "Feminino\n",
            "1.61\n"
          ],
          "name": "stdout"
        }
      ]
    },
    {
      "cell_type": "code",
      "metadata": {
        "id": "g0Uq5LPPuUxE",
        "colab_type": "code",
        "colab": {
          "base_uri": "https://localhost:8080/",
          "height": 34
        },
        "outputId": "8a15f5c0-7244-40d6-8d63-54ff11ed11cd"
      },
      "source": [
        "#retornar apenas as chaves\n",
        "pessoas.keys()"
      ],
      "execution_count": 28,
      "outputs": [
        {
          "output_type": "execute_result",
          "data": {
            "text/plain": [
              "dict_keys(['nome', 'idade', 'sexo', 'altura'])"
            ]
          },
          "metadata": {
            "tags": []
          },
          "execution_count": 28
        }
      ]
    },
    {
      "cell_type": "markdown",
      "metadata": {
        "id": "i_dJIXc4usWZ",
        "colab_type": "text"
      },
      "source": [
        "**RANDON**"
      ]
    },
    {
      "cell_type": "code",
      "metadata": {
        "id": "SO3M8DWFujyt",
        "colab_type": "code",
        "colab": {}
      },
      "source": [
        "import random #biblioteca para seleção aleatória"
      ],
      "execution_count": 0,
      "outputs": []
    },
    {
      "cell_type": "code",
      "metadata": {
        "id": "Xo0P5dRuu2g7",
        "colab_type": "code",
        "colab": {
          "base_uri": "https://localhost:8080/",
          "height": 34
        },
        "outputId": "6c506576-ccc0-4718-956d-2e9b0abc7cc4"
      },
      "source": [
        "random.randint(0, 10) #gera um numero inteiro aleatório iniciando do zero até o 10"
      ],
      "execution_count": 30,
      "outputs": [
        {
          "output_type": "execute_result",
          "data": {
            "text/plain": [
              "7"
            ]
          },
          "metadata": {
            "tags": []
          },
          "execution_count": 30
        }
      ]
    },
    {
      "cell_type": "code",
      "metadata": {
        "id": "N7DjkIHEvC7L",
        "colab_type": "code",
        "colab": {
          "base_uri": "https://localhost:8080/",
          "height": 34
        },
        "outputId": "34a35ec2-adb1-411a-a5b7-be75a327553d"
      },
      "source": [
        "list=[6,20,40, 'monique']\n",
        "random.choice(list) #seleciona aleatoriamente um valor de uma lista"
      ],
      "execution_count": 36,
      "outputs": [
        {
          "output_type": "execute_result",
          "data": {
            "text/plain": [
              "6"
            ]
          },
          "metadata": {
            "tags": []
          },
          "execution_count": 36
        }
      ]
    },
    {
      "cell_type": "markdown",
      "metadata": {
        "id": "5ONcNgggvgdY",
        "colab_type": "text"
      },
      "source": [
        "**Tratamento de exceção**"
      ]
    },
    {
      "cell_type": "code",
      "metadata": {
        "id": "OfGRqT9yva71",
        "colab_type": "code",
        "colab": {
          "base_uri": "https://localhost:8080/",
          "height": 50
        },
        "outputId": "9e0d791e-0b49-4226-d11e-37528d509ae6"
      },
      "source": [
        "x = 2\n",
        "y = 0\n",
        "\n",
        "try:\n",
        "  print(x/y)\n",
        "\n",
        "except:\n",
        "  print('não é permitida divisão por zero')\n",
        "\n",
        "print(x/x)"
      ],
      "execution_count": 39,
      "outputs": [
        {
          "output_type": "stream",
          "text": [
            "não é permitida divisão por zero\n",
            "1.0\n"
          ],
          "name": "stdout"
        }
      ]
    },
    {
      "cell_type": "markdown",
      "metadata": {
        "id": "7qqCG60FxqSE",
        "colab_type": "text"
      },
      "source": [
        "**Recebimento (input) de valores**"
      ]
    },
    {
      "cell_type": "code",
      "metadata": {
        "id": "PUJT2MWAxTrT",
        "colab_type": "code",
        "colab": {
          "base_uri": "https://localhost:8080/",
          "height": 84
        },
        "outputId": "e1cb6025-6e02-406d-acec-1add9097fbba"
      },
      "source": [
        "#string\n",
        "texto = input('Digite um texto:')\n",
        "\n",
        "#numeros\n",
        "n_int = int(input('Digite um número inteiro: '))\n",
        "n_float = float(input('Digite um número decimal: '))\n",
        "\n",
        "print(texto, n_int, n_float)"
      ],
      "execution_count": 40,
      "outputs": [
        {
          "output_type": "stream",
          "text": [
            "Digite um texto:olá\n",
            "Digite um número inteiro: 20\n",
            "Digite um número decimal: 2.0\n",
            "olá 20 2.0\n"
          ],
          "name": "stdout"
        }
      ]
    },
    {
      "cell_type": "markdown",
      "metadata": {
        "id": "YaGojglOybL8",
        "colab_type": "text"
      },
      "source": [
        "**EXERCICIO**\n",
        "1. Faça um programa que receba a idade do usuário e dia se ele é maior ou menor de idade.\n",
        "2. Faça um programa que receba duas notas digitadas pelo usuário. Se a nota for maior ou igual a seis, escreva aprovado, senão escreva reprovado.\n",
        "3. Escreva um programa que resolva uma equação de segundo grau\n",
        "4. Escreva um programa que ordene uma lista numérica\n",
        "5. Escreva um programa que receba dois números e um sinal, faça a operação matemática definida pelo sinal"
      ]
    },
    {
      "cell_type": "code",
      "metadata": {
        "id": "0iIMsGobyMXS",
        "colab_type": "code",
        "colab": {
          "base_uri": "https://localhost:8080/",
          "height": 50
        },
        "outputId": "6287660e-b797-43c4-cd72-994b907cb021"
      },
      "source": [
        "#1\n",
        "idade = int(input('Informe a sua idade: '))\n",
        "\n",
        "if idade < 18:\n",
        "  print('Você é menor de idade!')\n",
        "else:\n",
        "  print ('Você é maior de idade!')"
      ],
      "execution_count": 43,
      "outputs": [
        {
          "output_type": "stream",
          "text": [
            "Informe a sua idade: 18\n",
            "Você é maior de idade!\n"
          ],
          "name": "stdout"
        }
      ]
    },
    {
      "cell_type": "code",
      "metadata": {
        "id": "yMF8-dHYzZpm",
        "colab_type": "code",
        "colab": {
          "base_uri": "https://localhost:8080/",
          "height": 67
        },
        "outputId": "fc053a59-0a04-4f02-f9d9-d55ed8edadfb"
      },
      "source": [
        "#2\n",
        "nota1 = float(input('Informe a primeira nota: '))\n",
        "nota2 = float(input('Informe a segunda nota: '))\n",
        "\n",
        "media = (nota1+nota2)/2\n",
        "\n",
        "if media >= 6 :\n",
        "  print('Aprovado')\n",
        "else:\n",
        "  print('Reprovado')"
      ],
      "execution_count": 63,
      "outputs": [
        {
          "output_type": "stream",
          "text": [
            "Informe a primeira nota: 2\n",
            "Informe a segunda nota: 8\n",
            "Reprovado\n"
          ],
          "name": "stdout"
        }
      ]
    },
    {
      "cell_type": "code",
      "metadata": {
        "id": "r73OrAQ62elp",
        "colab_type": "code",
        "colab": {
          "base_uri": "https://localhost:8080/",
          "height": 101
        },
        "outputId": "31051dd9-0988-44f7-8927-52597d5c64dc"
      },
      "source": [
        "#3\n",
        "from math import sqrt\n",
        "def equacao(a,b,c):\n",
        "  delta = b**2 - 4*a*c\n",
        "  r_delta = sqrt(delta)\n",
        "  if r_delta < 0:\n",
        "    print('Delta negativo')\n",
        "  else:\n",
        "    x = (- b + r_delta) / 2*a \n",
        "  print('O resultado da equação de segundo grau é: ', x)\n",
        "\n",
        "print('Informe os valores para cálculo da equação de segundo grau.')\n",
        "a = int(input('informe o valor de a: '))\n",
        "b = int(input('informe o valor de b: '))\n",
        "c = int(input('informe o valor de c: '))\n",
        "equacao(a,b,c)\n"
      ],
      "execution_count": 64,
      "outputs": [
        {
          "output_type": "stream",
          "text": [
            "Informe os valores para cálculo da equação de segundo grau.\n",
            "informe o valor de a: 4\n",
            "informe o valor de b: -7\n",
            "informe o valor de c: 2\n",
            "O resultado da equação de segundo grau é:  22.246211251235323\n"
          ],
          "name": "stdout"
        }
      ]
    },
    {
      "cell_type": "code",
      "metadata": {
        "id": "wipfSvMh6eyX",
        "colab_type": "code",
        "colab": {
          "base_uri": "https://localhost:8080/",
          "height": 101
        },
        "outputId": "a518ecc1-c83a-4146-bea6-5fc46f9df989"
      },
      "source": [
        "#4\n",
        "n1 = [float(input('primeiro número: ')),float(input('segundo número: ')),float(input('terceiro número: '))]\n",
        "print('Valores digitados: ', n1)\n",
        "print('Valores ordenados: ', sorted(n1))"
      ],
      "execution_count": 62,
      "outputs": [
        {
          "output_type": "stream",
          "text": [
            "primeiro número: 2\n",
            "segundo número: 100\n",
            "terceiro número: 9\n",
            "Valores digitados:  [2.0, 100.0, 9.0]\n",
            "Valores ordenados:  [2.0, 9.0, 100.0]\n"
          ],
          "name": "stdout"
        }
      ]
    },
    {
      "cell_type": "code",
      "metadata": {
        "id": "1wtF7h8E7bDn",
        "colab_type": "code",
        "colab": {
          "base_uri": "https://localhost:8080/",
          "height": 118
        },
        "outputId": "9097c3c7-b32c-47de-c9c1-2bc990291ccc"
      },
      "source": [
        "#5\n",
        "n1 = float(input('informe um número: '))\n",
        "n2 = float(input('informe um número: '))\n",
        "print('informe qual será a opeção matemática (digite o operador):')\n",
        "print('+:soma, -:subtração, /:divisão, *:multiplicação')\n",
        "opera = input()\n",
        "\n",
        "if opera == '+':\n",
        "  result = n1 + nota\n",
        "elif opera == '-':\n",
        "  result = n1 -n2\n",
        "elif opera == '/':\n",
        "  result = n1 / n2\n",
        "elif opera == '*':\n",
        "  result = n1 * n2\n",
        "else:\n",
        "  print('operação inválida')\n",
        "\n",
        "print(result)"
      ],
      "execution_count": 66,
      "outputs": [
        {
          "output_type": "stream",
          "text": [
            "informe um número: 2\n",
            "informe um número: 3\n",
            "informe qual será a opeção matemática (digite o operador):\n",
            "+:soma, -:subtração, /:divisão, *:multiplicação\n",
            "*\n",
            "6.0\n"
          ],
          "name": "stdout"
        }
      ]
    }
  ]
}