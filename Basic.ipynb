{
  "nbformat": 4,
  "nbformat_minor": 0,
  "metadata": {
    "colab": {
      "name": "Basic.ipynb",
      "provenance": [],
      "collapsed_sections": [],
      "authorship_tag": "ABX9TyMN3xtUAsjcwuYZTDz6y2VV",
      "include_colab_link": true
    },
    "kernelspec": {
      "name": "python3",
      "display_name": "Python 3"
    }
  },
  "cells": [
    {
      "cell_type": "markdown",
      "metadata": {
        "id": "view-in-github",
        "colab_type": "text"
      },
      "source": [
        "<a href=\"https://colab.research.google.com/github/Msacacio21/python_study/blob/master/Basic.ipynb\" target=\"_parent\"><img src=\"https://colab.research.google.com/assets/colab-badge.svg\" alt=\"Open In Colab\"/></a>"
      ]
    },
    {
      "cell_type": "markdown",
      "metadata": {
        "id": "D5fjVt96Beaj",
        "colab_type": "text"
      },
      "source": [
        "\n",
        "# Basic concepts and commands\n",
        "\n"
      ]
    },
    {
      "cell_type": "code",
      "metadata": {
        "id": "pZy-qs8jBvVi",
        "colab_type": "code",
        "outputId": "c5f42555-4eba-4bb6-fb26-ce4613090c11",
        "colab": {
          "base_uri": "https://localhost:8080/",
          "height": 50
        }
      },
      "source": [
        "#Comentário de uma linha\n",
        "print(\"Olá Mundo\")\n",
        "\n",
        "'''Comentário com mais de uma linha\n",
        "linha2 '''\n",
        "print('Olá Mundo')"
      ],
      "execution_count": 1,
      "outputs": [
        {
          "output_type": "stream",
          "text": [
            "Olá Mundo\n",
            "Olá Mundo\n"
          ],
          "name": "stdout"
        }
      ]
    },
    {
      "cell_type": "code",
      "metadata": {
        "id": "B_rSsLz1CNLh",
        "colab_type": "code",
        "outputId": "b8b84898-8229-46ea-ee5f-6938c92c1d73",
        "colab": {
          "base_uri": "https://localhost:8080/",
          "height": 118
        }
      },
      "source": [
        "#Operações matemáticas\n",
        "print(2 + 2) #soma\n",
        "print(2 - 2) #subtração\n",
        "print(2 * 2) #multiplicação\n",
        "print(2 ** 3) #exponenciação\n",
        "print(10 % 3) #módulo(resto da divisão)\n",
        "print(10 / 2) #divisão"
      ],
      "execution_count": 2,
      "outputs": [
        {
          "output_type": "stream",
          "text": [
            "4\n",
            "0\n",
            "4\n",
            "8\n",
            "1\n",
            "5.0\n"
          ],
          "name": "stdout"
        }
      ]
    },
    {
      "cell_type": "code",
      "metadata": {
        "id": "MfhT97_6DOaG",
        "colab_type": "code",
        "outputId": "3a8ae75a-de1d-43a4-c22f-b5f0909d4f60",
        "colab": {
          "base_uri": "https://localhost:8080/",
          "height": 84
        }
      },
      "source": [
        "#declaração e tipos de variáveis\n",
        "v_str = 'valor'\n",
        "v_int = 4\n",
        "v_float = 1.2\n",
        "v_bolean = True\n",
        "\n",
        "print('variavel texto: ',v_str, '\\nvariavel de numero inteiro: ', v_int, '\\nvariavel de numero:',v_float,'\\nvariavel boleana: ',v_bolean)"
      ],
      "execution_count": 3,
      "outputs": [
        {
          "output_type": "stream",
          "text": [
            "variavel texto:  valor \n",
            "variavel de numero inteiro:  4 \n",
            "variavel de numero: 1.2 \n",
            "variavel boleana:  True\n"
          ],
          "name": "stdout"
        }
      ]
    },
    {
      "cell_type": "code",
      "metadata": {
        "id": "EmMFmRDcgOrO",
        "colab_type": "code",
        "outputId": "82b567d3-7898-4f71-8fa5-79b773d694ab",
        "colab": {
          "base_uri": "https://localhost:8080/",
          "height": 118
        }
      },
      "source": [
        "#Operadores relacionais\n",
        "x = 2\n",
        "y = 3\n",
        "\n",
        "print(x == y) \n",
        "print(x != y)\n",
        "print(x < y)\n",
        "print(x > y)\n",
        "print(x <= y)\n",
        "print(x >= y)\n"
      ],
      "execution_count": 4,
      "outputs": [
        {
          "output_type": "stream",
          "text": [
            "False\n",
            "True\n",
            "True\n",
            "False\n",
            "True\n",
            "False\n"
          ],
          "name": "stdout"
        }
      ]
    },
    {
      "cell_type": "code",
      "metadata": {
        "id": "dUmRUYWwhPds",
        "colab_type": "code",
        "outputId": "120dfd9b-ad05-4bcb-d442-20a822089085",
        "colab": {
          "base_uri": "https://localhost:8080/",
          "height": 67
        }
      },
      "source": [
        "#Operadores lógicos\n",
        "z = 3\n",
        "print(x == y and y == z) \n",
        "print(x == y or y == z) \n",
        "print(not(x == y and y == z)) #negação\n"
      ],
      "execution_count": 5,
      "outputs": [
        {
          "output_type": "stream",
          "text": [
            "False\n",
            "True\n",
            "True\n"
          ],
          "name": "stdout"
        }
      ]
    },
    {
      "cell_type": "code",
      "metadata": {
        "id": "5GRhxh5diMUG",
        "colab_type": "code",
        "outputId": "e21fd740-77ff-4891-bcc9-dd4de2de37ee",
        "colab": {
          "base_uri": "https://localhost:8080/",
          "height": 50
        }
      },
      "source": [
        "#Estrutura condicional\n",
        "if x > y:\n",
        "  print('x maior que y')\n",
        "else:\n",
        "  print('x menor que y')\n",
        "\n",
        "if x > y:\n",
        "  print('x maior que y')\n",
        "elif y == z:\n",
        "  print('y é igual a z')\n",
        "else:\n",
        "  print('nenhuma condição atendida')\n",
        "\n"
      ],
      "execution_count": 6,
      "outputs": [
        {
          "output_type": "stream",
          "text": [
            "x menor que y\n",
            "y é igual a z\n"
          ],
          "name": "stdout"
        }
      ]
    },
    {
      "cell_type": "code",
      "metadata": {
        "id": "lARth1TJmZJK",
        "colab_type": "code",
        "outputId": "9d172212-b841-4c9f-ec6f-5f6855dd606f",
        "colab": {
          "base_uri": "https://localhost:8080/",
          "height": 67
        }
      },
      "source": [
        "#Estrutura de repetição\n",
        "while x < 5:\n",
        "  print(x)\n",
        "  x += 1\n"
      ],
      "execution_count": 7,
      "outputs": [
        {
          "output_type": "stream",
          "text": [
            "2\n",
            "3\n",
            "4\n"
          ],
          "name": "stdout"
        }
      ]
    },
    {
      "cell_type": "code",
      "metadata": {
        "id": "uoa9YS_xnX0f",
        "colab_type": "code",
        "outputId": "f59ccb6f-0086-4f28-b071-8609078f8c1d",
        "colab": {
          "base_uri": "https://localhost:8080/",
          "height": 67
        }
      },
      "source": [
        "lista = ['Olá','Mundo','!!!']\n",
        "for i in lista:\n",
        "  print(i)"
      ],
      "execution_count": 8,
      "outputs": [
        {
          "output_type": "stream",
          "text": [
            "Olá\n",
            "Mundo\n",
            "!!!\n"
          ],
          "name": "stdout"
        }
      ]
    },
    {
      "cell_type": "code",
      "metadata": {
        "id": "yLj0zi-wn10U",
        "colab_type": "code",
        "outputId": "f6da42ae-7181-4ce9-e6b3-27c1f7d1870c",
        "colab": {
          "base_uri": "https://localhost:8080/",
          "height": 101
        }
      },
      "source": [
        "for i in range(1,10,2):\n",
        "  print(i)"
      ],
      "execution_count": 9,
      "outputs": [
        {
          "output_type": "stream",
          "text": [
            "1\n",
            "3\n",
            "5\n",
            "7\n",
            "9\n"
          ],
          "name": "stdout"
        }
      ]
    },
    {
      "cell_type": "markdown",
      "metadata": {
        "id": "1aBxBqQ2kdhB",
        "colab_type": "text"
      },
      "source": [
        "**Trabalhando com string**"
      ]
    },
    {
      "cell_type": "code",
      "metadata": {
        "id": "Fgb1DFDqoNNB",
        "colab_type": "code",
        "outputId": "6e0eb0ea-6ffc-4507-e622-4b46aec96790",
        "colab": {
          "base_uri": "https://localhost:8080/",
          "height": 84
        }
      },
      "source": [
        "#Trabalhando com string\n",
        "a = 'Monique'\n",
        "b = 'Ellen'\n",
        "c = '\\nTeste ..,,,,'\n",
        "\n",
        "#concatenar\n",
        "concat = a +' '+ b\n",
        "print(concat)\n",
        "\n",
        "#tamanho\n",
        "print(len(concat))\n",
        "\n",
        "#navegação\n",
        "print(concat[2])\n",
        "print(concat[0:7])"
      ],
      "execution_count": 10,
      "outputs": [
        {
          "output_type": "stream",
          "text": [
            "Monique Ellen\n",
            "13\n",
            "n\n",
            "Monique\n"
          ],
          "name": "stdout"
        }
      ]
    },
    {
      "cell_type": "code",
      "metadata": {
        "id": "-B-cg2xWrkVh",
        "colab_type": "code",
        "outputId": "207fe42e-a992-48f6-9df9-51af5f869122",
        "colab": {
          "base_uri": "https://localhost:8080/",
          "height": 151
        }
      },
      "source": [
        "#MÉTODOS PARA STRING\n",
        "\n",
        "#caixa baixa\n",
        "print(concat.lower())\n",
        "\n",
        "#caixa alta\n",
        "print(concat.upper())\n",
        "\n",
        "#remoção de espaços ou caracteres indesejados\n",
        "print(c.strip()) #remove apenas os espaços\n",
        "print(c.strip(\",.\"))\n",
        "\n",
        "#transforma uma string em lista\n",
        "list_concat = concat.split()\n",
        "print(list_concat)\n",
        "\n",
        "#Busca por substring\n",
        "print(concat.find(\"Ellen\")) #retorna a posição de inicio da substring\n",
        "\n",
        "#Substituir parte de uma string\n",
        "print(concat.replace(\"Ellen\", \"Acacio\"))"
      ],
      "execution_count": 11,
      "outputs": [
        {
          "output_type": "stream",
          "text": [
            "monique ellen\n",
            "MONIQUE ELLEN\n",
            "Teste ..,,,,\n",
            "\n",
            "Teste \n",
            "['Monique', 'Ellen']\n",
            "8\n",
            "Monique Acacio\n"
          ],
          "name": "stdout"
        }
      ]
    },
    {
      "cell_type": "markdown",
      "metadata": {
        "id": "0gnV-9kpr5-P",
        "colab_type": "text"
      },
      "source": [
        "**Funções**"
      ]
    },
    {
      "cell_type": "code",
      "metadata": {
        "id": "mAuULwQFr8a5",
        "colab_type": "code",
        "outputId": "798bc96c-f51d-4aaf-84af-e2697e8e0f42",
        "colab": {
          "base_uri": "https://localhost:8080/",
          "height": 34
        }
      },
      "source": [
        "#função =  bloco de código\n",
        "def soma (x,y):\n",
        "  return x + y\n",
        "\n",
        "#chamada da função\n",
        "soma(2,3)"
      ],
      "execution_count": 12,
      "outputs": [
        {
          "output_type": "execute_result",
          "data": {
            "text/plain": [
              "5"
            ]
          },
          "metadata": {
            "tags": []
          },
          "execution_count": 12
        }
      ]
    },
    {
      "cell_type": "markdown",
      "metadata": {
        "id": "9hczxqg6yBZ-",
        "colab_type": "text"
      },
      "source": [
        "**Manipulação de arquivo**"
      ]
    },
    {
      "cell_type": "code",
      "metadata": {
        "id": "DSIEDp9dsa-4",
        "colab_type": "code",
        "colab": {}
      },
      "source": [
        "#função open - importação ou criação de um arquivo\n",
        "'''\n",
        "variavel = open(nome, modo)\n",
        "\n",
        "onde, modo:\n",
        "r = read (modo default)\n",
        "w = write (caso o arquivo já exista o mesmo será apagado e um novo arquivo será criado)\n",
        "a = read and write (cria o arquivo ou adiciona o conteúdo no fim do arquivo existente)\n",
        "\n",
        "Upload um arquivo com o conteúdo abaixo:\n",
        "Meu arquivo do texto\n",
        "Olá Mundo\n",
        "Esta é um arquivo de teste\n",
        "'''\n",
        "arquivo = open('/Meu arquivo do texto')\n",
        "print(arquivo)\n",
        "\n"
      ],
      "execution_count": 0,
      "outputs": []
    },
    {
      "cell_type": "code",
      "metadata": {
        "id": "G8fhgcVuztYQ",
        "colab_type": "code",
        "colab": {}
      },
      "source": [
        "#adicionando o conteúdo do arquivo em  uma lista e exibindo \n",
        "linhas = arquivo.readlines()\n",
        "for linha in linhas:\n",
        "  print(linha)\n",
        "\n",
        "arquivo.close() #fechando o arquivo"
      ],
      "execution_count": 0,
      "outputs": []
    },
    {
      "cell_type": "code",
      "metadata": {
        "id": "kR3I-WJ60JkX",
        "colab_type": "code",
        "colab": {}
      },
      "source": [
        "#criando um novo arquivo\n",
        "texto = open('/texto.txt', 'w')\n",
        "print(texto)"
      ],
      "execution_count": 0,
      "outputs": []
    },
    {
      "cell_type": "code",
      "metadata": {
        "id": "oTcWohC80xeA",
        "colab_type": "code",
        "colab": {}
      },
      "source": [
        "#adicionar conteúdo a um arquivo\n",
        "texto.write('Adicionando conteúdo a um arquivo')\n",
        "texto.close()"
      ],
      "execution_count": 0,
      "outputs": []
    },
    {
      "cell_type": "markdown",
      "metadata": {
        "id": "7sUaCFfMWolX",
        "colab_type": "text"
      },
      "source": [
        "**Estrutura de dados**"
      ]
    },
    {
      "cell_type": "code",
      "metadata": {
        "id": "WodI9mSW2UKx",
        "colab_type": "code",
        "outputId": "6db4e13b-3a5a-4d19-b8c7-ec188b546b51",
        "colab": {
          "base_uri": "https://localhost:8080/",
          "height": 118
        }
      },
      "source": [
        "#Listas\n",
        "\n",
        "frutas = ['abacaxi','melancia','abacate']\n",
        "print(frutas) #exibe a lista inteira\n",
        "\n",
        "numeros = [1,2,3,4,5]\n",
        "print(numeros[0]) #exibe o valor conforme indice informado\n",
        "\n",
        "lista_mista = ['abacaxi',2,9.89,True]\n",
        "for i in lista_mista:  #imprimi todos os itens da lista utilizando o a estrutura de repetição for\n",
        "  print(i)"
      ],
      "execution_count": 16,
      "outputs": [
        {
          "output_type": "stream",
          "text": [
            "['abacaxi', 'melancia', 'abacate']\n",
            "1\n",
            "abacaxi\n",
            "2\n",
            "9.89\n",
            "True\n"
          ],
          "name": "stdout"
        }
      ]
    },
    {
      "cell_type": "code",
      "metadata": {
        "id": "NFGSQofIXBYn",
        "colab_type": "code",
        "outputId": "28cd49fb-23c5-40ff-b892-1506ef97f4ce",
        "colab": {
          "base_uri": "https://localhost:8080/",
          "height": 34
        }
      },
      "source": [
        "#verificar o tamanho de uma lista\n",
        "print(len(lista_mista))\n",
        "\n",
        "#adiciona novo item no final da lista\n",
        "lista_mista.append('limão')"
      ],
      "execution_count": 17,
      "outputs": [
        {
          "output_type": "stream",
          "text": [
            "4\n"
          ],
          "name": "stdout"
        }
      ]
    },
    {
      "cell_type": "code",
      "metadata": {
        "id": "R4myffPpYPdP",
        "colab_type": "code",
        "outputId": "e20bedca-b9b2-4a47-8777-fb393291b506",
        "colab": {
          "base_uri": "https://localhost:8080/",
          "height": 67
        }
      },
      "source": [
        "#verificar a existencia de um valor na lista\n",
        "if 'limão' in lista_mista:\n",
        "  print('limão esta na lista')\n",
        "\n",
        "#remover itens da lista\n",
        "del lista_mista[3:]\n",
        "print(lista_mista)\n",
        "\n",
        "del frutas[:] #remove todos os itens da lista\n",
        "print(frutas) "
      ],
      "execution_count": 18,
      "outputs": [
        {
          "output_type": "stream",
          "text": [
            "limão esta na lista\n",
            "['abacaxi', 2, 9.89]\n",
            "[]\n"
          ],
          "name": "stdout"
        }
      ]
    },
    {
      "cell_type": "code",
      "metadata": {
        "id": "Nf1xQ2V8YuWz",
        "colab_type": "code",
        "outputId": "ce8770d9-049c-44fd-ac22-ebb34fadecea",
        "colab": {
          "base_uri": "https://localhost:8080/",
          "height": 67
        }
      },
      "source": [
        "#ordenar lista\n",
        "l = [142,5,6,841,23,1]\n",
        "print(sorted(l)) #retorna a lista ordenada\n",
        "print(l)\n",
        "\n",
        "l.sort() #altera a lista colocando os itens de forma ordenada\n",
        "print(l)"
      ],
      "execution_count": 19,
      "outputs": [
        {
          "output_type": "stream",
          "text": [
            "[1, 5, 6, 23, 142, 841]\n",
            "[142, 5, 6, 841, 23, 1]\n",
            "[1, 5, 6, 23, 142, 841]\n"
          ],
          "name": "stdout"
        }
      ]
    },
    {
      "cell_type": "code",
      "metadata": {
        "id": "V2IXjFoudWFO",
        "colab_type": "code",
        "outputId": "8492d176-01d3-4473-f688-003554d2bd94",
        "colab": {
          "base_uri": "https://localhost:8080/",
          "height": 34
        }
      },
      "source": [
        "#ordenar lista de forma reversa\n",
        "l.sort(reverse=True)\n",
        "print(l)"
      ],
      "execution_count": 20,
      "outputs": [
        {
          "output_type": "stream",
          "text": [
            "[841, 142, 23, 6, 5, 1]\n"
          ],
          "name": "stdout"
        }
      ]
    },
    {
      "cell_type": "code",
      "metadata": {
        "id": "ueMpmvZTqMTY",
        "colab_type": "code",
        "colab": {
          "base_uri": "https://localhost:8080/",
          "height": 50
        },
        "outputId": "2f72bd87-ba47-447e-e4df-ec0b8e5517a6"
      },
      "source": [
        "#list comprehension\n",
        "d = [1,2,3,4,5]\n",
        "e = [i**2 for i in d]   #a lista será preenchida com o resultado da iteração\n",
        "print (e)\n",
        "\n",
        "z = [i for i in d if i%2==1] #o conteúdo será apenas os números primos presentes na lista d\n",
        "print(z)"
      ],
      "execution_count": 28,
      "outputs": [
        {
          "output_type": "stream",
          "text": [
            "[1, 4, 9, 16, 25]\n",
            "[1, 3, 5]\n"
          ],
          "name": "stdout"
        }
      ]
    },
    {
      "cell_type": "code",
      "metadata": {
        "id": "aPDbe8TZddS1",
        "colab_type": "code",
        "outputId": "ae4cc947-9b5a-4c3b-94c4-452ca8e91929",
        "colab": {
          "base_uri": "https://localhost:8080/",
          "height": 50
        }
      },
      "source": [
        "#DICIONÁRIO DE DADOS - chave e valor\n",
        "pessoas = {'nome':'Monique','idade':29,'sexo':'Feminino','altura':1.61}\n",
        "\n",
        "print(pessoas['nome']) #busca pela chave\n",
        "print(pessoas)"
      ],
      "execution_count": 21,
      "outputs": [
        {
          "output_type": "stream",
          "text": [
            "Monique\n",
            "{'nome': 'Monique', 'idade': 29, 'sexo': 'Feminino', 'altura': 1.61}\n"
          ],
          "name": "stdout"
        }
      ]
    },
    {
      "cell_type": "code",
      "metadata": {
        "id": "ZmXKnM9AtTn2",
        "colab_type": "code",
        "outputId": "f741cd5f-9249-4d25-8775-25fd96f30902",
        "colab": {
          "base_uri": "https://localhost:8080/",
          "height": 84
        }
      },
      "source": [
        "#navegar pelo dicionário\n",
        "for pessoa in pessoas:\n",
        "  print(pessoa,':', pessoas[pessoa])"
      ],
      "execution_count": 22,
      "outputs": [
        {
          "output_type": "stream",
          "text": [
            "nome : Monique\n",
            "idade : 29\n",
            "sexo : Feminino\n",
            "altura : 1.61\n"
          ],
          "name": "stdout"
        }
      ]
    },
    {
      "cell_type": "code",
      "metadata": {
        "id": "iSbI_Gtct-7X",
        "colab_type": "code",
        "outputId": "5a8ac8d2-744d-49a0-fd67-213cb7a9ed2b",
        "colab": {
          "base_uri": "https://localhost:8080/",
          "height": 84
        }
      },
      "source": [
        "#a função item transforma os dados do dicionário em um tupla\n",
        "for pessoa in pessoas.items():\n",
        "  print(pessoa)"
      ],
      "execution_count": 23,
      "outputs": [
        {
          "output_type": "stream",
          "text": [
            "('nome', 'Monique')\n",
            "('idade', 29)\n",
            "('sexo', 'Feminino')\n",
            "('altura', 1.61)\n"
          ],
          "name": "stdout"
        }
      ]
    },
    {
      "cell_type": "code",
      "metadata": {
        "id": "-uBzlC11uJ8J",
        "colab_type": "code",
        "outputId": "74b2e238-a963-4dd4-c9c4-94e1047afbf4",
        "colab": {
          "base_uri": "https://localhost:8080/",
          "height": 84
        }
      },
      "source": [
        "#retorna apenas os valores do dicionário\n",
        "for pessoa in pessoas.values():\n",
        "  print(pessoa)"
      ],
      "execution_count": 24,
      "outputs": [
        {
          "output_type": "stream",
          "text": [
            "Monique\n",
            "29\n",
            "Feminino\n",
            "1.61\n"
          ],
          "name": "stdout"
        }
      ]
    },
    {
      "cell_type": "code",
      "metadata": {
        "id": "g0Uq5LPPuUxE",
        "colab_type": "code",
        "outputId": "2a98baa9-4afe-4e6a-c04a-9ed4b88fbe7f",
        "colab": {
          "base_uri": "https://localhost:8080/",
          "height": 34
        }
      },
      "source": [
        "#retornar apenas as chaves\n",
        "pessoas.keys()"
      ],
      "execution_count": 25,
      "outputs": [
        {
          "output_type": "execute_result",
          "data": {
            "text/plain": [
              "dict_keys(['nome', 'idade', 'sexo', 'altura'])"
            ]
          },
          "metadata": {
            "tags": []
          },
          "execution_count": 25
        }
      ]
    },
    {
      "cell_type": "markdown",
      "metadata": {
        "id": "-pKnTMncrITA",
        "colab_type": "text"
      },
      "source": [
        "**FUNÇÃO ENUMERATE**"
      ]
    },
    {
      "cell_type": "code",
      "metadata": {
        "id": "ZDSLasw1rP1F",
        "colab_type": "code",
        "colab": {
          "base_uri": "https://localhost:8080/",
          "height": 84
        },
        "outputId": "0dfcde55-506a-47b4-ed1b-39579ed2963f"
      },
      "source": [
        "itens = ['abacate', 'bola', 'cachorro']\n",
        "\n",
        "#enumera os itens da lista permitindo acessá-los\n",
        "for i, nome in enumerate(itens):\n",
        "  print(i, nome)\n",
        "\n"
      ],
      "execution_count": 32,
      "outputs": [
        {
          "output_type": "stream",
          "text": [
            "0 abacate\n",
            "1 bola\n",
            "2 cachorro\n"
          ],
          "name": "stdout"
        },
        {
          "output_type": "execute_result",
          "data": {
            "text/plain": [
              "<enumerate at 0x7fc1934fafc0>"
            ]
          },
          "metadata": {
            "tags": []
          },
          "execution_count": 32
        }
      ]
    },
    {
      "cell_type": "markdown",
      "metadata": {
        "id": "gB8Up4bnsfbb",
        "colab_type": "text"
      },
      "source": [
        "**FUNÇÃO MAP**"
      ]
    },
    {
      "cell_type": "code",
      "metadata": {
        "id": "5ZmTKzwPsivz",
        "colab_type": "code",
        "colab": {
          "base_uri": "https://localhost:8080/",
          "height": 50
        },
        "outputId": "5be048a8-8cf6-4724-9802-6fcb0d581945"
      },
      "source": [
        "#replica uma função para vários elementos de uma lista\n",
        "def dobro(x):\n",
        "  return x*2\n",
        "print(dobro(2))\n",
        "\n",
        "\n",
        "valor = [1,2,3,4,5]\n",
        "valor_dobrado = list(map(dobro, valor)) #o map cria um objeto do tipo map, sendo necessário usar o laço for para visualizar os dados. neste exemplo foi convertido para lista\n",
        "print(valor_dobrado)"
      ],
      "execution_count": 36,
      "outputs": [
        {
          "output_type": "stream",
          "text": [
            "4\n",
            "[2, 4, 6, 8, 10]\n"
          ],
          "name": "stdout"
        }
      ]
    },
    {
      "cell_type": "markdown",
      "metadata": {
        "id": "nqBVpOoauFZk",
        "colab_type": "text"
      },
      "source": [
        "**FUNÇÃO REDUCE**"
      ]
    },
    {
      "cell_type": "code",
      "metadata": {
        "id": "gHmBBxRduIg6",
        "colab_type": "code",
        "colab": {
          "base_uri": "https://localhost:8080/",
          "height": 34
        },
        "outputId": "abe7c55f-1193-49ec-d25d-ac8196c56a22"
      },
      "source": [
        "#Retorna um valor único para uma lista\n",
        "from functools import reduce\n",
        "\n",
        "def soma(x,y):\n",
        "  return x+y\n",
        "\n",
        "valores = [2,495,9,1]\n",
        "\n",
        "print(reduce(soma, valores)) #neste exemplo a função soma esta sendo aplicada a todos itens da lista e como retorno apenas o valor total da soma de todos os itens\n",
        "\n"
      ],
      "execution_count": 37,
      "outputs": [
        {
          "output_type": "stream",
          "text": [
            "507\n"
          ],
          "name": "stdout"
        }
      ]
    },
    {
      "cell_type": "markdown",
      "metadata": {
        "id": "iwXd6VCmu1Dv",
        "colab_type": "text"
      },
      "source": [
        "**FUNÇÃO ZIP**"
      ]
    },
    {
      "cell_type": "code",
      "metadata": {
        "id": "5FOnigocu4TP",
        "colab_type": "code",
        "colab": {
          "base_uri": "https://localhost:8080/",
          "height": 84
        },
        "outputId": "6cb3d998-1865-498c-c97b-8d5e1898cc65"
      },
      "source": [
        "#concatenação de listas\n",
        "lista1 = [1,4,24,3]\n",
        "lista2 = ['juntos','cachorro','familia','dinheiro']\n",
        "lista3 = [True, 2.0, 'Texto', 'ok']\n",
        "\n",
        "for num, nome, item in zip(lista1, lista2,lista3):  #neste exemplo temos num em lista1 e nome em lista2 e item na lista 3\n",
        "  print(num, nome, item)\n"
      ],
      "execution_count": 43,
      "outputs": [
        {
          "output_type": "stream",
          "text": [
            "1 juntos True\n",
            "4 cachorro 2.0\n",
            "24 familia Texto\n",
            "3 dinheiro ok\n"
          ],
          "name": "stdout"
        }
      ]
    },
    {
      "cell_type": "markdown",
      "metadata": {
        "id": "i_dJIXc4usWZ",
        "colab_type": "text"
      },
      "source": [
        "**RANDON**"
      ]
    },
    {
      "cell_type": "code",
      "metadata": {
        "id": "SO3M8DWFujyt",
        "colab_type": "code",
        "colab": {}
      },
      "source": [
        "import random #biblioteca para seleção aleatória"
      ],
      "execution_count": 0,
      "outputs": []
    },
    {
      "cell_type": "code",
      "metadata": {
        "id": "Xo0P5dRuu2g7",
        "colab_type": "code",
        "colab": {}
      },
      "source": [
        "random.randint(0, 10) #gera um numero inteiro aleatório iniciando do zero até o 10"
      ],
      "execution_count": 0,
      "outputs": []
    },
    {
      "cell_type": "code",
      "metadata": {
        "id": "N7DjkIHEvC7L",
        "colab_type": "code",
        "colab": {}
      },
      "source": [
        "list=[6,20,40, 'monique']\n",
        "random.choice(list) #seleciona aleatoriamente um valor de uma lista"
      ],
      "execution_count": 0,
      "outputs": []
    },
    {
      "cell_type": "markdown",
      "metadata": {
        "id": "5ONcNgggvgdY",
        "colab_type": "text"
      },
      "source": [
        "**Tratamento de exceção**"
      ]
    },
    {
      "cell_type": "code",
      "metadata": {
        "id": "OfGRqT9yva71",
        "colab_type": "code",
        "colab": {}
      },
      "source": [
        "x = 2\n",
        "y = 0\n",
        "\n",
        "try:\n",
        "  print(x/y)\n",
        "\n",
        "except:\n",
        "  print('não é permitida divisão por zero')\n",
        "\n",
        "print(x/x)"
      ],
      "execution_count": 0,
      "outputs": []
    },
    {
      "cell_type": "markdown",
      "metadata": {
        "id": "7qqCG60FxqSE",
        "colab_type": "text"
      },
      "source": [
        "**Recebimento (input) de valores**"
      ]
    },
    {
      "cell_type": "code",
      "metadata": {
        "id": "PUJT2MWAxTrT",
        "colab_type": "code",
        "colab": {}
      },
      "source": [
        "#string\n",
        "texto = input('Digite um texto:')\n",
        "\n",
        "#numeros\n",
        "n_int = int(input('Digite um número inteiro: '))\n",
        "n_float = float(input('Digite um número decimal: '))\n",
        "\n",
        "print(texto, n_int, n_float)"
      ],
      "execution_count": 0,
      "outputs": []
    },
    {
      "cell_type": "markdown",
      "metadata": {
        "id": "YaGojglOybL8",
        "colab_type": "text"
      },
      "source": [
        "**EXERCICIO**\n",
        "1. Faça um programa que receba a idade do usuário e dia se ele é maior ou menor de idade.\n",
        "2. Faça um programa que receba duas notas digitadas pelo usuário. Se a nota for maior ou igual a seis, escreva aprovado, senão escreva reprovado.\n",
        "3. Escreva um programa que resolva uma equação de segundo grau\n",
        "4. Escreva um programa que ordene uma lista numérica\n",
        "5. Escreva um programa que receba dois números e um sinal, faça a operação matemática definida pelo sinal"
      ]
    },
    {
      "cell_type": "code",
      "metadata": {
        "id": "0iIMsGobyMXS",
        "colab_type": "code",
        "colab": {}
      },
      "source": [
        "#1\n",
        "idade = int(input('Informe a sua idade: '))\n",
        "\n",
        "if idade < 18:\n",
        "  print('Você é menor de idade!')\n",
        "else:\n",
        "  print ('Você é maior de idade!')"
      ],
      "execution_count": 0,
      "outputs": []
    },
    {
      "cell_type": "code",
      "metadata": {
        "id": "yMF8-dHYzZpm",
        "colab_type": "code",
        "colab": {}
      },
      "source": [
        "#2\n",
        "nota1 = float(input('Informe a primeira nota: '))\n",
        "nota2 = float(input('Informe a segunda nota: '))\n",
        "\n",
        "media = (nota1+nota2)/2\n",
        "\n",
        "if media >= 6 :\n",
        "  print('Aprovado')\n",
        "else:\n",
        "  print('Reprovado')"
      ],
      "execution_count": 0,
      "outputs": []
    },
    {
      "cell_type": "code",
      "metadata": {
        "id": "r73OrAQ62elp",
        "colab_type": "code",
        "colab": {}
      },
      "source": [
        "#3\n",
        "from math import sqrt\n",
        "def equacao(a,b,c):\n",
        "  delta = b**2 - 4*a*c\n",
        "  r_delta = sqrt(delta)\n",
        "  if r_delta < 0:\n",
        "    print('Delta negativo')\n",
        "  else:\n",
        "    x = (- b + r_delta) / 2*a \n",
        "  print('O resultado da equação de segundo grau é: ', x)\n",
        "\n",
        "print('Informe os valores para cálculo da equação de segundo grau.')\n",
        "a = int(input('informe o valor de a: '))\n",
        "b = int(input('informe o valor de b: '))\n",
        "c = int(input('informe o valor de c: '))\n",
        "equacao(a,b,c)\n"
      ],
      "execution_count": 0,
      "outputs": []
    },
    {
      "cell_type": "code",
      "metadata": {
        "id": "wipfSvMh6eyX",
        "colab_type": "code",
        "colab": {}
      },
      "source": [
        "#4\n",
        "n1 = [float(input('primeiro número: ')),float(input('segundo número: ')),float(input('terceiro número: '))]\n",
        "print('Valores digitados: ', n1)\n",
        "print('Valores ordenados: ', sorted(n1))"
      ],
      "execution_count": 0,
      "outputs": []
    },
    {
      "cell_type": "code",
      "metadata": {
        "id": "1wtF7h8E7bDn",
        "colab_type": "code",
        "colab": {}
      },
      "source": [
        "#5\n",
        "n1 = float(input('informe um número: '))\n",
        "n2 = float(input('informe um número: '))\n",
        "print('informe qual será a opeção matemática (digite o operador):')\n",
        "print('+:soma, -:subtração, /:divisão, *:multiplicação')\n",
        "opera = input()\n",
        "\n",
        "if opera == '+':\n",
        "  result = n1 + nota\n",
        "elif opera == '-':\n",
        "  result = n1 -n2\n",
        "elif opera == '/':\n",
        "  result = n1 / n2\n",
        "elif opera == '*':\n",
        "  result = n1 * n2\n",
        "else:\n",
        "  print('operação inválida')\n",
        "\n",
        "print(result)"
      ],
      "execution_count": 0,
      "outputs": []
    }
  ]
}